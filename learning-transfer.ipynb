{
 "cells": [
  {
   "cell_type": "code",
   "execution_count": 15,
   "metadata": {},
   "outputs": [],
   "source": [
    "import tensorflow as tf\n",
    "import matplotlib.pyplot as plt\n",
    "import tensorflow_datasets as tfds\n",
    "import numpy as np\n",
    "from tensorflow import keras\n",
    "from tensorflow.keras import layers"
   ]
  },
  {
   "cell_type": "code",
   "execution_count": 16,
   "metadata": {},
   "outputs": [
    {
     "name": "stdout",
     "output_type": "stream",
     "text": [
      "Number of training samples: 6149\n",
      "Number of validation samples: 1020\n",
      "Number of test samples: 1020\n"
     ]
    }
   ],
   "source": [
    "#test us super big?\n",
    "#change up the order to have more data available for training\n",
    "#this is not a bug/typo\n",
    "test_data, validation_data, train_data = tfds.load('oxford_flowers102', split=['train', 'validation', 'test'], as_supervised=True)\n",
    "\n",
    "TARGET_SIZE = (128, 128)\n",
    "TARGET_SHAPE = (TARGET_SIZE[0], TARGET_SIZE[1], 3)\n",
    "\n",
    "train_data = train_data.map(lambda x, y: (tf.image.resize(x, TARGET_SIZE), y))\n",
    "validation_data = validation_data.map(lambda x, y: (tf.image.resize(x, TARGET_SIZE), y))\n",
    "test_data = test_data.map(lambda x, y: (tf.image.resize(x, TARGET_SIZE), y))\n",
    "\n",
    "\n",
    "steps = 41\n",
    "train_data = train_data.shuffle(1024) #.batch(150)\n",
    "validation_data = validation_data.shuffle(1024) #.batch(25)\n",
    "\n",
    "\n",
    "\n",
    "print(\"Number of training samples: %d\" % tf.data.experimental.cardinality(train_data))\n",
    "print(\"Number of validation samples: %d\" % tf.data.experimental.cardinality(validation_data))\n",
    "print(\"Number of test samples: %d\" % tf.data.experimental.cardinality(test_data))"
   ]
  },
  {
   "cell_type": "code",
   "execution_count": 18,
   "metadata": {},
   "outputs": [],
   "source": [
    "input = keras.Input(shape=TARGET_SHAPE)\n",
    "normalizer = keras.layers.experimental.preprocessing.Normalization()\n",
    "preprocess = normalizer(input)\n",
    "normalizer.set_weights([np.array([0] * 3), np.array([255**2] * 3)])\n",
    "\n",
    "#image_batch, label_batch = next(iter(train_data))\n",
    "#test = normalizer(image_batch)\n",
    "#plt.imshow(tf.reshape(test, (128, 128, 3)))"
   ]
  },
  {
   "cell_type": "code",
   "execution_count": 19,
   "metadata": {},
   "outputs": [
    {
     "name": "stdout",
     "output_type": "stream",
     "text": [
      "Downloading data from https://storage.googleapis.com/tensorflow/keras-applications/resnet/resnet101v2_weights_tf_dim_ordering_tf_kernels_notop.h5\n",
      "171319296/171317808 [==============================] - 4s 0us/step\n"
     ]
    }
   ],
   "source": [
    "base_model = keras.applications.ResNet101V2(include_top=False, weights='imagenet', pooling='avg', input_shape=TARGET_SHAPE)\n",
    "base_model.trainable = False\n",
    "#print(base_model.summary())\n",
    "#img = train_data.take(1)\n",
    "#print(img)\n",
    "#image_batch, label_batch = next(iter(train_data))\n",
    "#print(image_batch)\n",
    "#plt.imshow(image_batch / 255.0)\n",
    "#feature_batch = base_model(image_batch)\n",
    "#print(feature_batch.shape)\n",
    "\n",
    "features = base_model(preprocess, training=False)\n",
    "classifier_head = keras.layers.Dense(102)\n",
    "\n",
    "outputs = classifier_head(features)\n",
    "\n",
    "model = keras.Model(input, outputs)"
   ]
  },
  {
   "cell_type": "code",
   "execution_count": 20,
   "metadata": {},
   "outputs": [
    {
     "name": "stdout",
     "output_type": "stream",
     "text": [
      "Epoch 1/10\n",
      "41/41 [==============================] - 16s 382ms/step - loss: 3.1054 - accuracy: 0.3188 - val_loss: 1.9187 - val_accuracy: 0.4951\n",
      "Epoch 2/10\n",
      "41/41 [==============================] - 13s 317ms/step - loss: 1.2188 - accuracy: 0.7055 - val_loss: 1.4001 - val_accuracy: 0.6304\n",
      "Epoch 3/10\n",
      "41/41 [==============================] - 13s 320ms/step - loss: 0.8215 - accuracy: 0.8107 - val_loss: 1.2079 - val_accuracy: 0.6824\n",
      "Epoch 4/10\n",
      "41/41 [==============================] - 12s 304ms/step - loss: 0.6185 - accuracy: 0.8696 - val_loss: 1.1155 - val_accuracy: 0.7216\n",
      "Epoch 5/10\n",
      "41/41 [==============================] - 13s 315ms/step - loss: 0.4906 - accuracy: 0.9024 - val_loss: 1.0570 - val_accuracy: 0.7245\n",
      "Epoch 6/10\n",
      "41/41 [==============================] - 13s 313ms/step - loss: 0.4015 - accuracy: 0.9263 - val_loss: 1.0116 - val_accuracy: 0.7422\n",
      "Epoch 7/10\n",
      "41/41 [==============================] - 13s 317ms/step - loss: 0.3316 - accuracy: 0.9483 - val_loss: 0.9818 - val_accuracy: 0.7490\n",
      "Epoch 8/10\n",
      "41/41 [==============================] - 13s 312ms/step - loss: 0.2809 - accuracy: 0.9589 - val_loss: 0.9645 - val_accuracy: 0.7471\n",
      "Epoch 9/10\n",
      "41/41 [==============================] - 12s 302ms/step - loss: 0.2414 - accuracy: 0.9701 - val_loss: 0.9447 - val_accuracy: 0.7490\n",
      "Epoch 10/10\n",
      "41/41 [==============================] - 12s 302ms/step - loss: 0.2099 - accuracy: 0.9780 - val_loss: 0.9466 - val_accuracy: 0.7480\n"
     ]
    },
    {
     "data": {
      "text/plain": [
       "<tensorflow.python.keras.callbacks.History at 0x1c127c3c0f0>"
      ]
     },
     "execution_count": 20,
     "metadata": {},
     "output_type": "execute_result"
    }
   ],
   "source": [
    "model.compile(\n",
    "    optimizer=keras.optimizers.Adam(),\n",
    "    loss=keras.losses.SparseCategoricalCrossentropy(from_logits=True),\n",
    "    metrics=['accuracy'],\n",
    ")\n",
    "\n",
    "#print(model.summary())\n",
    "#I cannot fathom why but this only works when the validation batch size is 150????\n",
    "model.fit(train_data.batch(150)\n",
    ", epochs=10\n",
    ", validation_data=validation_data.batch(150)\n",
    ", validation_steps=7\n",
    ", steps_per_epoch=41\n",
    ")"
   ]
  },
  {
   "cell_type": "code",
   "execution_count": null,
   "metadata": {},
   "outputs": [],
   "source": []
  }
 ],
 "metadata": {
  "kernelspec": {
   "display_name": "Python 3",
   "language": "python",
   "name": "python3"
  },
  "language_info": {
   "codemirror_mode": {
    "name": "ipython",
    "version": 3
   },
   "file_extension": ".py",
   "mimetype": "text/x-python",
   "name": "python",
   "nbconvert_exporter": "python",
   "pygments_lexer": "ipython3",
   "version": "3.6.7"
  }
 },
 "nbformat": 4,
 "nbformat_minor": 4
}
